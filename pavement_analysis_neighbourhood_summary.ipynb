{
 "cells": [
  {
   "cell_type": "code",
   "execution_count": 59,
   "metadata": {},
   "outputs": [],
   "source": [
    "import geopandas as gpd\n",
    "import pandas as pd"
   ]
  },
  {
   "cell_type": "code",
   "execution_count": 60,
   "metadata": {},
   "outputs": [],
   "source": [
    "# do spatial join\n",
    "df_path_centerlines = gpd.read_file('')\n",
    "df_neighbourhoods = gpd.read_file('')"
   ]
  },
  {
   "cell_type": "code",
   "execution_count": 61,
   "metadata": {},
   "outputs": [],
   "source": [
    "# calculate the length of each centerline\n",
    "df_path_centerlines['length'] = df_path_centerlines['geometry'].length "
   ]
  },
  {
   "cell_type": "code",
   "execution_count": 62,
   "metadata": {},
   "outputs": [],
   "source": [
    "# run spatial intersection to find for eah neighbourhood the paths which intersect it\n",
    "df_join = gpd.sjoin(df_blocks, df_path_centerlines, op='intersects')"
   ]
  },
  {
   "cell_type": "code",
   "execution_count": null,
   "metadata": {},
   "outputs": [],
   "source": [
    "# sumamrise stats"
   ]
  },
  {
   "cell_type": "code",
   "execution_count": 63,
   "metadata": {},
   "outputs": [],
   "source": [
    "# get a summary per neighbourhood of the paths which intersect\n",
    "data_ = {}\n",
    "\n",
    "for i, row in df_join.iterrows():\n",
    "    if row.fid not in data_.keys():\n",
    "        data_[row.fid] = {'geometry':row.geometry, 'width':[], 'length':[]}\n",
    "    data_[row.fid]['width'].append(row.width)\n",
    "    data_[row.fid]['length'].append(df_path_centerlines.loc[row.index_right, 'length'])\n",
    "    "
   ]
  },
  {
   "cell_type": "code",
   "execution_count": 64,
   "metadata": {},
   "outputs": [],
   "source": [
    "# calculate the summary stats per neighbourhood\n",
    "data = {'geometry':[], 'fid':[], 'width':[], 'no_of_paths':[], 'path_lengths':[]}\n",
    "\n",
    "for fid in data_.keys():\n",
    "    data['geometry'].append(data_[fid]['geometry'])\n",
    "    data['fid'].append(fid)\n",
    "    \n",
    "    total_w = 0.0\n",
    "    total_l = 0.0\n",
    "    for j in range(0, len(data_[fid]['width'])):\n",
    "        total_w += data_[fid]['width'][j] * data_[fid]['length'][j]\n",
    "        total_l += data_[fid]['length'][j]\n",
    "    \n",
    "    data['width'].append(total_w/total_l)\n",
    "    data['no_of_paths'].append(len(data_[fid]['width']))\n",
    "    data['path_lengths'].append(total_l)\n",
    "    "
   ]
  },
  {
   "cell_type": "code",
   "execution_count": 65,
   "metadata": {},
   "outputs": [],
   "source": [
    "# create final dataframe\n",
    "df2 = pd.DataFrame(data)\n",
    "df2 = gpd.GeoDataFrame(df2, crs=df.crs, geometry='geometry')"
   ]
  },
  {
   "cell_type": "code",
   "execution_count": 67,
   "metadata": {},
   "outputs": [],
   "source": [
    "# save final dataframe to file\n",
    "df2.to_file('', driver='GPKG')"
   ]
  }
 ],
 "metadata": {
  "kernelspec": {
   "display_name": "Python 3",
   "language": "python",
   "name": "python3"
  },
  "language_info": {
   "codemirror_mode": {
    "name": "ipython",
    "version": 3
   },
   "file_extension": ".py",
   "mimetype": "text/x-python",
   "name": "python",
   "nbconvert_exporter": "python",
   "pygments_lexer": "ipython3",
   "version": "3.7.5"
  }
 },
 "nbformat": 4,
 "nbformat_minor": 4
}

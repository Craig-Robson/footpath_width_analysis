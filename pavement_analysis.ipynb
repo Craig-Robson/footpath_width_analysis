{
 "cells": [
  {
   "cell_type": "code",
   "execution_count": null,
   "metadata": {},
   "outputs": [],
   "source": [
    "import functions as f\n",
    "import pandas as pd\n",
    "import geopandas as gpd\n",
    "import rtree"
   ]
  },
  {
   "cell_type": "code",
   "execution_count": null,
   "metadata": {},
   "outputs": [],
   "source": [
    "input_data_paths='/home/craig/footpath_width_analysis/data_input/mastermap2017_ncl_roadspaths_sample2.geojson'\n",
    "paths_centerlines='dev_centrelines.shp'\n",
    "paths_polygon_widths='dev_widths.shp'\n",
    "\n",
    "input_road_network = '/home/craig/footpath_width_analysis/data_input/openroads_ncl_sample2.geojson'\n",
    "buffered_roads='buffered_roads.shp'\n",
    "roads_with_pavement_stats = 'road_polygons_pavement_stats.shp\n",
    "road_network_with_pavement_stats ='result_openroads.shp'"
   ]
  },
  {
   "cell_type": "code",
   "execution_count": null,
   "metadata": {},
   "outputs": [],
   "source": [
    "# generate centerlines and widths for pavement sections\n",
    "df = gpd.read_file(input_data_paths)\n",
    "\n",
    "df['centerlines'] = f.gen_centerlines(df)\n",
    "print('Done centerline method')\n",
    "df.centerlines = df.centerlines.apply(f.linemerge)\n",
    "print('Done linemerge')\n",
    "df.centerlines = df.centerlines.apply(f.ProcessingMethod.remove_short_lines)\n",
    "print('Done remove short lines')\n",
    "df.centerlines = df.centerlines.apply(lambda line: line.simplify(1, preserve_topology=True))\n",
    "print('Done simplify')\n",
    "df['segments'] = df['centerlines'].apply(f.get_segments)\n",
    "print('Done get segments')\n",
    "df['avg_distances'] = df.apply(f.get_avg_distances, axis=1)\n",
    "print('Done get avg distances')\n",
    "dfc = df.set_geometry('centerlines')\n",
    "df_segments = f.ProcessingMethod.explode_to_segments(df)\n",
    "dfc_segments = f.ProcessingMethod.explode_to_segments_(dfc)\n",
    "print('Saving files')\n",
    "df_segments.to_file(paths_polygon_widths)\n",
    "dfc_segments.to_file(paths_centerlines)"
   ]
  },
  {
   "cell_type": "code",
   "execution_count": null,
   "metadata": {},
   "outputs": [],
   "source": [
    "df_segments.sindex\n",
    "dfc_segments.sindex\n",
    "df.sindex"
   ]
  },
  {
   "cell_type": "code",
   "execution_count": null,
   "metadata": {},
   "outputs": [],
   "source": [
    "# read in road data (centerlines for roads)\n",
    "df2 = gpd.read_file(input_road_network)\n",
    "#print(df2.head())\n",
    "data = {'geometry':[], 'i':[], 'avg_width':[], 'min_width':[]}\n",
    "for i, row in df2.iterrows():\n",
    "\n",
    "    buffer_by = 0.0\n",
    "    buffer_by = row.averagewid\n",
    "    if buffer_by == 0: buffer_by = 5\n",
    "    data['geometry'].append(row.geometry.buffer((buffer_by*0.5)+0.5))\n",
    "\n",
    "    data['i'].append(i)\n",
    "    data['avg_width'].append(row.averagewid)\n",
    "    data['min_width'].append(row.minimumwid)\n",
    "    \n",
    "\n",
    "df2_ = pd.DataFrame(data)\n",
    "df2_ = gpd.GeoDataFrame(df2_, crs=df.crs, geometry='geometry')\n",
    "\n",
    "df2.sindex\n",
    "df2_.to_file(buffered_roads)"
   ]
  },
  {
   "cell_type": "code",
   "execution_count": null,
   "metadata": {},
   "outputs": [],
   "source": []
  },
  {
   "cell_type": "code",
   "execution_count": null,
   "metadata": {},
   "outputs": [],
   "source": []
  },
  {
   "cell_type": "code",
   "execution_count": null,
   "metadata": {},
   "outputs": [],
   "source": []
  },
  {
   "cell_type": "code",
   "execution_count": null,
   "metadata": {},
   "outputs": [],
   "source": [
    "# slim down the dataframe to only required fields\n",
    "data = {'geometry':[], 'i':[], 'width':[]}\n",
    "for i, row in df_segments.iterrows():\n",
    "        data['geometry'].append(row.geometry)\n",
    "        data['i'].append(i)\n",
    "        data['width'].append(row.width)\n",
    "\n",
    "df__ = pd.DataFrame(data)\n",
    "df__ = gpd.GeoDataFrame(df__, crs=df.crs, geometry='geometry')\n",
    "    "
   ]
  },
  {
   "cell_type": "code",
   "execution_count": null,
   "metadata": {},
   "outputs": [],
   "source": [
    "# get the overlapping pavement polygons (df__, i_2) for each road (df2, i_1)\n",
    "df4 = gpd.overlay(df2_, df__, how='intersection')"
   ]
  },
  {
   "cell_type": "code",
   "execution_count": null,
   "metadata": {},
   "outputs": [],
   "source": []
  },
  {
   "cell_type": "code",
   "execution_count": null,
   "metadata": {},
   "outputs": [],
   "source": []
  },
  {
   "cell_type": "code",
   "execution_count": null,
   "metadata": {},
   "outputs": [],
   "source": [
    "# using the result of the overlap, for each road section get the pavements around it\n",
    "row_count = 0\n",
    "for i, row in df2_.iterrows():\n",
    "    #if row.i_1 == 0:\n",
    "    #    print(row)\n",
    "    row_count += 1\n",
    "        \n",
    "#print(row_count)\n",
    "data = {'i_1':[], 'count':[], 'path_avg_width':[], 'geometry':[], 'total':[], 'intersects':[], 'path_max_width':[], 'path_min_width':[]}\n",
    "for j in range(0, row_count):\n",
    "    #print(j)\n",
    "    data['geometry'].append(df2_.loc[j, 'geometry'])\n",
    "    data['i_1'].append(j)\n",
    "    count= 0\n",
    "    pv_width=0.0\n",
    "    min_width = 999999\n",
    "    max_width = -999999\n",
    "    intersects = []\n",
    "    for i, row in df4.iterrows():\n",
    "        if row.i_1 == j:\n",
    "            count +=1\n",
    "            pv_width += df__.loc[row.i_2, 'width']\n",
    "            intersects.append(row.i_2)\n",
    "            if df__.loc[row.i_2, 'width'] > max_width:\n",
    "                max_width = df__.loc[row.i_2, 'width']\n",
    "            if df__.loc[row.i_2, 'width'] < min_width:\n",
    "                min_width = df__.loc[row.i_2, 'width']\n",
    "    \n",
    "    data['count'].append(count)\n",
    "    data['intersects'].append(str(intersects))\n",
    "    data['total'].append(pv_width)\n",
    "    data['path_min_width'].append(min_width)\n",
    "    data['path_max_width'].append(max_width)\n",
    "    \n",
    "    if count > 0:\n",
    "        # to get average sum up intersecting pavements, these are on both sides so divide by 2, and by the number of pavements???\n",
    "        # sooooo many issues here - it should be weighted average based on length along road segment\n",
    "        # - for not all roads, will the total include pavements at both sides\n",
    "        data['path_avg_width'].append((pv_width/count)/2)\n",
    "    else: data['path_avg_width'].append(0)\n",
    "        \n",
    "df5 = pd.DataFrame(data)\n",
    "df5 = gpd.GeoDataFrame(df5, crs=df.crs, geometry='geometry')\n",
    "df5.to_file(roads_with_pavement_stats)"
   ]
  },
  {
   "cell_type": "code",
   "execution_count": null,
   "metadata": {},
   "outputs": [],
   "source": [
    "df5.head()"
   ]
  },
  {
   "cell_type": "code",
   "execution_count": null,
   "metadata": {},
   "outputs": [],
   "source": [
    "# generate df6 - a dataframe of the road centerlines with the pavement width/intersection data\n",
    "df6=df5\n",
    "data = {'geometry':[]}\n",
    "for i, row in df6.iterrows():\n",
    "    \n",
    "    data['geometry'].append(df2.loc[row.i_1, 'geometry'])\n",
    "    \n",
    "df6.geometry=data['geometry']\n",
    "#df6.head()\n",
    "df6.to_file(road_network_with_pavement_stats)"
   ]
  },
  {
   "cell_type": "code",
   "execution_count": null,
   "metadata": {},
   "outputs": [],
   "source": []
  },
  {
   "cell_type": "code",
   "execution_count": null,
   "metadata": {},
   "outputs": [],
   "source": [
    "# problems to solve\n",
    "# (a) pavement on different side of road\n",
    "    # get centerline of road buffer\n",
    "    # or offset road by\n",
    "# (b) the average width is based on the values which intersect, and not the length of the intersection, so each pavement width is equally weighted"
   ]
  }
 ],
 "metadata": {
  "kernelspec": {
   "display_name": "Python 3",
   "language": "python",
   "name": "python3"
  },
  "language_info": {
   "codemirror_mode": {
    "name": "ipython",
    "version": 3
   },
   "file_extension": ".py",
   "mimetype": "text/x-python",
   "name": "python",
   "nbconvert_exporter": "python",
   "pygments_lexer": "ipython3",
   "version": "3.7.5"
  }
 },
 "nbformat": 4,
 "nbformat_minor": 2
}
